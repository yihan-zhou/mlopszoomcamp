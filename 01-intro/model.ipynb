{
 "cells": [
  {
   "cell_type": "code",
   "id": "initial_id",
   "metadata": {
    "collapsed": true,
    "ExecuteTime": {
     "end_time": "2024-05-18T00:14:48.522158Z",
     "start_time": "2024-05-18T00:14:48.512321Z"
    }
   },
   "source": [
    "import pandas as pd\n",
    "import matplotlib.pyplot as plt\n",
    "import seaborn as sns\n",
    "import copy\n",
    "from sklearn.feature_extraction import DictVectorizer\n",
    "from sklearn.linear_model import LinearRegression, Lasso, Ridge\n",
    "from sklearn.metrics import mean_squared_error\n",
    "import pickle"
   ],
   "outputs": [],
   "execution_count": 190
  },
  {
   "metadata": {},
   "cell_type": "markdown",
   "source": "Difference between \"green taxi\" and \"yellow taxi\": Yellow Taxis pick up street-hailing passengers anywhere in NYC. Green Taxis pick up street-hailing passengers in NYC except for below East 96th Street and West 110th Street in Manhattan. The practical reality is that yellow taxis predominantly serve Manhattan, south of 96 St.",
   "id": "e7ad59e5a7a4e238"
  },
  {
   "metadata": {},
   "cell_type": "code",
   "outputs": [],
   "execution_count": null,
   "source": [
    "path_zone = \"/Users/yihanzhou/PycharmProjects/mlops-zoomcamp/01-intro/data/taxi_zone_lookup.csv\"\n",
    "df_zone = pd.read_csv(path_zone)"
   ],
   "id": "208014e8955a7496"
  },
  {
   "metadata": {
    "ExecuteTime": {
     "end_time": "2024-05-18T04:03:33.863669Z",
     "start_time": "2024-05-18T04:03:33.861643Z"
    }
   },
   "cell_type": "code",
   "source": [
    "data_2401_path = \"data/green_tripdata_2024-01.parquet\"\n",
    "data_2402_path = \"data/green_tripdata_2024-02.parquet\""
   ],
   "id": "56b68febc5f9b55e",
   "outputs": [],
   "execution_count": 204
  },
  {
   "metadata": {
    "ExecuteTime": {
     "end_time": "2024-05-18T04:03:34.235834Z",
     "start_time": "2024-05-18T04:03:34.228829Z"
    }
   },
   "cell_type": "code",
   "source": "df = pd.read_parquet(data_2401_path)",
   "id": "16aa95ab4275d364",
   "outputs": [],
   "execution_count": 205
  },
  {
   "metadata": {
    "ExecuteTime": {
     "end_time": "2024-05-18T04:03:34.715061Z",
     "start_time": "2024-05-18T04:03:34.707094Z"
    }
   },
   "cell_type": "code",
   "source": "df.head()",
   "id": "d102af6a6f8c90d7",
   "outputs": [
    {
     "data": {
      "text/plain": [
       "   VendorID lpep_pickup_datetime lpep_dropoff_datetime store_and_fwd_flag  \\\n",
       "0         2  2024-01-01 00:46:55   2024-01-01 00:58:25                  N   \n",
       "1         2  2024-01-01 00:31:42   2024-01-01 00:52:34                  N   \n",
       "2         2  2024-01-01 00:30:21   2024-01-01 00:49:23                  N   \n",
       "3         1  2024-01-01 00:30:20   2024-01-01 00:42:12                  N   \n",
       "4         2  2024-01-01 00:32:38   2024-01-01 00:43:37                  N   \n",
       "\n",
       "   RatecodeID  PULocationID  DOLocationID  passenger_count  trip_distance  \\\n",
       "0         1.0           236           239              1.0           1.98   \n",
       "1         1.0            65           170              5.0           6.54   \n",
       "2         1.0            74           262              1.0           3.08   \n",
       "3         1.0            74           116              1.0           2.40   \n",
       "4         1.0            74           243              1.0           5.14   \n",
       "\n",
       "   fare_amount  extra  mta_tax  tip_amount  tolls_amount  ehail_fee  \\\n",
       "0         12.8    1.0      0.5        3.61           0.0        NaN   \n",
       "1         30.3    1.0      0.5        7.11           0.0        NaN   \n",
       "2         19.8    1.0      0.5        3.00           0.0        NaN   \n",
       "3         14.2    1.0      1.5        0.00           0.0        NaN   \n",
       "4         22.6    1.0      0.5        6.28           0.0        NaN   \n",
       "\n",
       "   improvement_surcharge  total_amount  payment_type  trip_type  \\\n",
       "0                    1.0         21.66           1.0        1.0   \n",
       "1                    1.0         42.66           1.0        1.0   \n",
       "2                    1.0         28.05           1.0        1.0   \n",
       "3                    1.0         16.70           2.0        1.0   \n",
       "4                    1.0         31.38           1.0        1.0   \n",
       "\n",
       "   congestion_surcharge  \n",
       "0                  2.75  \n",
       "1                  2.75  \n",
       "2                  2.75  \n",
       "3                  0.00  \n",
       "4                  0.00  "
      ],
      "text/html": [
       "<div>\n",
       "<style scoped>\n",
       "    .dataframe tbody tr th:only-of-type {\n",
       "        vertical-align: middle;\n",
       "    }\n",
       "\n",
       "    .dataframe tbody tr th {\n",
       "        vertical-align: top;\n",
       "    }\n",
       "\n",
       "    .dataframe thead th {\n",
       "        text-align: right;\n",
       "    }\n",
       "</style>\n",
       "<table border=\"1\" class=\"dataframe\">\n",
       "  <thead>\n",
       "    <tr style=\"text-align: right;\">\n",
       "      <th></th>\n",
       "      <th>VendorID</th>\n",
       "      <th>lpep_pickup_datetime</th>\n",
       "      <th>lpep_dropoff_datetime</th>\n",
       "      <th>store_and_fwd_flag</th>\n",
       "      <th>RatecodeID</th>\n",
       "      <th>PULocationID</th>\n",
       "      <th>DOLocationID</th>\n",
       "      <th>passenger_count</th>\n",
       "      <th>trip_distance</th>\n",
       "      <th>fare_amount</th>\n",
       "      <th>extra</th>\n",
       "      <th>mta_tax</th>\n",
       "      <th>tip_amount</th>\n",
       "      <th>tolls_amount</th>\n",
       "      <th>ehail_fee</th>\n",
       "      <th>improvement_surcharge</th>\n",
       "      <th>total_amount</th>\n",
       "      <th>payment_type</th>\n",
       "      <th>trip_type</th>\n",
       "      <th>congestion_surcharge</th>\n",
       "    </tr>\n",
       "  </thead>\n",
       "  <tbody>\n",
       "    <tr>\n",
       "      <th>0</th>\n",
       "      <td>2</td>\n",
       "      <td>2024-01-01 00:46:55</td>\n",
       "      <td>2024-01-01 00:58:25</td>\n",
       "      <td>N</td>\n",
       "      <td>1.0</td>\n",
       "      <td>236</td>\n",
       "      <td>239</td>\n",
       "      <td>1.0</td>\n",
       "      <td>1.98</td>\n",
       "      <td>12.8</td>\n",
       "      <td>1.0</td>\n",
       "      <td>0.5</td>\n",
       "      <td>3.61</td>\n",
       "      <td>0.0</td>\n",
       "      <td>NaN</td>\n",
       "      <td>1.0</td>\n",
       "      <td>21.66</td>\n",
       "      <td>1.0</td>\n",
       "      <td>1.0</td>\n",
       "      <td>2.75</td>\n",
       "    </tr>\n",
       "    <tr>\n",
       "      <th>1</th>\n",
       "      <td>2</td>\n",
       "      <td>2024-01-01 00:31:42</td>\n",
       "      <td>2024-01-01 00:52:34</td>\n",
       "      <td>N</td>\n",
       "      <td>1.0</td>\n",
       "      <td>65</td>\n",
       "      <td>170</td>\n",
       "      <td>5.0</td>\n",
       "      <td>6.54</td>\n",
       "      <td>30.3</td>\n",
       "      <td>1.0</td>\n",
       "      <td>0.5</td>\n",
       "      <td>7.11</td>\n",
       "      <td>0.0</td>\n",
       "      <td>NaN</td>\n",
       "      <td>1.0</td>\n",
       "      <td>42.66</td>\n",
       "      <td>1.0</td>\n",
       "      <td>1.0</td>\n",
       "      <td>2.75</td>\n",
       "    </tr>\n",
       "    <tr>\n",
       "      <th>2</th>\n",
       "      <td>2</td>\n",
       "      <td>2024-01-01 00:30:21</td>\n",
       "      <td>2024-01-01 00:49:23</td>\n",
       "      <td>N</td>\n",
       "      <td>1.0</td>\n",
       "      <td>74</td>\n",
       "      <td>262</td>\n",
       "      <td>1.0</td>\n",
       "      <td>3.08</td>\n",
       "      <td>19.8</td>\n",
       "      <td>1.0</td>\n",
       "      <td>0.5</td>\n",
       "      <td>3.00</td>\n",
       "      <td>0.0</td>\n",
       "      <td>NaN</td>\n",
       "      <td>1.0</td>\n",
       "      <td>28.05</td>\n",
       "      <td>1.0</td>\n",
       "      <td>1.0</td>\n",
       "      <td>2.75</td>\n",
       "    </tr>\n",
       "    <tr>\n",
       "      <th>3</th>\n",
       "      <td>1</td>\n",
       "      <td>2024-01-01 00:30:20</td>\n",
       "      <td>2024-01-01 00:42:12</td>\n",
       "      <td>N</td>\n",
       "      <td>1.0</td>\n",
       "      <td>74</td>\n",
       "      <td>116</td>\n",
       "      <td>1.0</td>\n",
       "      <td>2.40</td>\n",
       "      <td>14.2</td>\n",
       "      <td>1.0</td>\n",
       "      <td>1.5</td>\n",
       "      <td>0.00</td>\n",
       "      <td>0.0</td>\n",
       "      <td>NaN</td>\n",
       "      <td>1.0</td>\n",
       "      <td>16.70</td>\n",
       "      <td>2.0</td>\n",
       "      <td>1.0</td>\n",
       "      <td>0.00</td>\n",
       "    </tr>\n",
       "    <tr>\n",
       "      <th>4</th>\n",
       "      <td>2</td>\n",
       "      <td>2024-01-01 00:32:38</td>\n",
       "      <td>2024-01-01 00:43:37</td>\n",
       "      <td>N</td>\n",
       "      <td>1.0</td>\n",
       "      <td>74</td>\n",
       "      <td>243</td>\n",
       "      <td>1.0</td>\n",
       "      <td>5.14</td>\n",
       "      <td>22.6</td>\n",
       "      <td>1.0</td>\n",
       "      <td>0.5</td>\n",
       "      <td>6.28</td>\n",
       "      <td>0.0</td>\n",
       "      <td>NaN</td>\n",
       "      <td>1.0</td>\n",
       "      <td>31.38</td>\n",
       "      <td>1.0</td>\n",
       "      <td>1.0</td>\n",
       "      <td>0.00</td>\n",
       "    </tr>\n",
       "  </tbody>\n",
       "</table>\n",
       "</div>"
      ]
     },
     "execution_count": 206,
     "metadata": {},
     "output_type": "execute_result"
    }
   ],
   "execution_count": 206
  },
  {
   "metadata": {},
   "cell_type": "markdown",
   "source": [
    "Trip type: A code indicating whether the trip was a street-hail or a dispatch that is automatically assigned based on the metered rate in use but can be altered by the driver.  \n",
    "1= Street-hail \n",
    "2= Dispatch "
   ],
   "id": "239535f6b857a7d0"
  },
  {
   "metadata": {
    "ExecuteTime": {
     "end_time": "2024-05-17T20:34:07.819544Z",
     "start_time": "2024-05-17T20:34:07.813921Z"
    }
   },
   "cell_type": "code",
   "source": [
    "count_trip_type_1 = len(df[df['trip_type'] == 1.0])\n",
    "count_trip_type_2 = len(df[df['trip_type'] == 2.0])\n",
    "total = count_trip_type_2 + count_trip_type_1\n",
    "print(f\"{count_trip_type_1 / total* 100:.2f}%\",f\"{count_trip_type_2 / total* 100:.2f}%\")"
   ],
   "id": "31a6a9f8e0237989",
   "outputs": [
    {
     "name": "stdout",
     "output_type": "stream",
     "text": [
      "96.73% 3.27%\n"
     ]
    }
   ],
   "execution_count": 24
  },
  {
   "metadata": {},
   "cell_type": "markdown",
   "source": "Most of the data in Jan 2024 is street hail.",
   "id": "dff6af9371616dc1"
  },
  {
   "metadata": {},
   "cell_type": "markdown",
   "source": "## EDA",
   "id": "1da8e242b4fa310e"
  },
  {
   "metadata": {
    "ExecuteTime": {
     "end_time": "2024-05-18T04:03:40.639703Z",
     "start_time": "2024-05-18T04:03:40.569346Z"
    }
   },
   "cell_type": "code",
   "source": [
    "df['duration'] = df['lpep_dropoff_datetime'] - df['lpep_pickup_datetime']\n",
    "\n",
    "# df[df['trip_type'] == 1.0]['duration'].mean()\n",
    "# df[df['trip_type'] == 2.0]['duration'].mean()\n",
    "\n",
    "df['duration'] = df['duration'].apply(lambda x: x.total_seconds()/60)\n",
    "\n",
    "# sns.distplot(df['duration'])\n",
    "\n",
    "# len(df[df['duration']>200.0])/total *100\n",
    "# only 0.4% of the ride is longer than 200\n",
    "\n",
    "# or using quantile\n",
    "# df['duration'].quantile(0.95)\n",
    "# len(df[df['duration']>33.68])/total *100\n",
    "\n",
    "# another way to see if the distplot is not clear\n",
    "# df['duration'].describe()\n",
    "# df['duration'].describe(percentiles=[0.95, 0.98, 0.99])\n",
    "# sns.distplot(df[(df['duration'] > 1.0) & (df['duration'] < 60.0)]['duration'])\n",
    "\n",
    "df_og = copy.deepcopy(df)\n",
    "df = df[(df['duration'] > 1.0) & (df['duration'] < 60.0)]\n",
    "categorical = ['PULocationID','DOLocationID']\n",
    "numerical = ['trip_distance']\n",
    "# we will take a subset based on the duration\n",
    "\n",
    "df[categorical] = df[categorical].astype(str)"
   ],
   "id": "6a907b04217044f6",
   "outputs": [],
   "execution_count": 207
  },
  {
   "metadata": {
    "ExecuteTime": {
     "end_time": "2024-05-18T04:07:03.016757Z",
     "start_time": "2024-05-18T04:07:02.980681Z"
    }
   },
   "cell_type": "code",
   "source": "df.info()",
   "id": "dce5ccc084b8c742",
   "outputs": [
    {
     "name": "stdout",
     "output_type": "stream",
     "text": [
      "<class 'pandas.core.frame.DataFrame'>\n",
      "Index: 54349 entries, 0 to 56550\n",
      "Data columns (total 21 columns):\n",
      " #   Column                 Non-Null Count  Dtype         \n",
      "---  ------                 --------------  -----         \n",
      " 0   VendorID               54349 non-null  int32         \n",
      " 1   lpep_pickup_datetime   54349 non-null  datetime64[us]\n",
      " 2   lpep_dropoff_datetime  54349 non-null  datetime64[us]\n",
      " 3   store_and_fwd_flag     51055 non-null  object        \n",
      " 4   RatecodeID             51055 non-null  float64       \n",
      " 5   PULocationID           54349 non-null  object        \n",
      " 6   DOLocationID           54349 non-null  object        \n",
      " 7   passenger_count        51055 non-null  float64       \n",
      " 8   trip_distance          54349 non-null  float64       \n",
      " 9   fare_amount            54349 non-null  float64       \n",
      " 10  extra                  54349 non-null  float64       \n",
      " 11  mta_tax                54349 non-null  float64       \n",
      " 12  tip_amount             54349 non-null  float64       \n",
      " 13  tolls_amount           54349 non-null  float64       \n",
      " 14  ehail_fee              0 non-null      float64       \n",
      " 15  improvement_surcharge  54349 non-null  float64       \n",
      " 16  total_amount           54349 non-null  float64       \n",
      " 17  payment_type           51055 non-null  float64       \n",
      " 18  trip_type              51054 non-null  float64       \n",
      " 19  congestion_surcharge   51055 non-null  float64       \n",
      " 20  duration               54349 non-null  float64       \n",
      "dtypes: datetime64[us](2), float64(15), int32(1), object(3)\n",
      "memory usage: 8.9+ MB\n"
     ]
    }
   ],
   "execution_count": 210
  },
  {
   "metadata": {
    "ExecuteTime": {
     "end_time": "2024-05-18T04:03:41.646494Z",
     "start_time": "2024-05-18T04:03:41.525994Z"
    }
   },
   "cell_type": "code",
   "source": "sns.histplot(df['duration'])",
   "id": "8101578b4a16b457",
   "outputs": [
    {
     "name": "stderr",
     "output_type": "stream",
     "text": [
      "/opt/anaconda3/envs/mlopszoomcamp/lib/python3.12/site-packages/seaborn/_oldcore.py:1119: FutureWarning: use_inf_as_na option is deprecated and will be removed in a future version. Convert inf values to NaN before operating instead.\n",
      "  with pd.option_context('mode.use_inf_as_na', True):\n"
     ]
    },
    {
     "data": {
      "text/plain": [
       "<Axes: xlabel='duration', ylabel='Count'>"
      ]
     },
     "execution_count": 208,
     "metadata": {},
     "output_type": "execute_result"
    },
    {
     "data": {
      "text/plain": [
       "<Figure size 640x480 with 1 Axes>"
      ],
      "image/png": "[encoded data removed]"
     },
     "metadata": {},
     "output_type": "display_data"
    }
   ],
   "execution_count": 208
  },
  {
   "metadata": {
    "ExecuteTime": {
     "end_time": "2024-05-18T04:04:07.340073Z",
     "start_time": "2024-05-18T04:04:07.165912Z"
    }
   },
   "cell_type": "code",
   "source": "sns.kdeplot(df['duration'])",
   "id": "6a8e604165404205",
   "outputs": [
    {
     "name": "stderr",
     "output_type": "stream",
     "text": [
      "/opt/anaconda3/envs/mlopszoomcamp/lib/python3.12/site-packages/seaborn/_oldcore.py:1119: FutureWarning: use_inf_as_na option is deprecated and will be removed in a future version. Convert inf values to NaN before operating instead.\n",
      "  with pd.option_context('mode.use_inf_as_na', True):\n"
     ]
    },
    {
     "data": {
      "text/plain": [
       "<Axes: xlabel='duration', ylabel='Density'>"
      ]
     },
     "execution_count": 209,
     "metadata": {},
     "output_type": "execute_result"
    },
    {
     "data": {
      "text/plain": [
       "<Figure size 640x480 with 1 Axes>"
      ],
      "image/png": "[encoded data removed]"
     },
     "metadata": {},
     "output_type": "display_data"
    }
   ],
   "execution_count": 209
  },
  {
   "metadata": {},
   "cell_type": "markdown",
   "source": "# Start training",
   "id": "8049cd8c583d28f4"
  },
  {
   "metadata": {},
   "cell_type": "code",
   "outputs": [],
   "execution_count": null,
   "source": [
    "train_dicts = df[categorical+numerical].to_dict(orient=\"records\")\n",
    "\n",
    "dv = DictVectorizer()\n",
    "x_train = dv.fit_transform(train_dicts)\n",
    "# dv.feature_names_\n",
    "# all the columns dict vectorizor uses for onehot encoding\n",
    "# it didn't endcode trip distance as it's float\n",
    "y_train = df['duration'].values\n",
    "\n",
    "lr = LinearRegression()\n",
    "lr.fit(x_train,y_train)\n",
    "\n",
    "y_pred = lr.predict(x_train)\n",
    "\n",
    "# sns.distplot(y_pred, label=\"prediction\")\n",
    "# sns.distplot(y_train, label=\"label\")\n",
    "# plt.legend()\n",
    "\n",
    "mean_squared_error(y_train,y_pred,squared=False) # sequence doesn't matter\n",
    "# our model is wrong by 7.1 mins"
   ],
   "id": "f731cf1d915ae340"
  },
  {
   "metadata": {},
   "cell_type": "markdown",
   "source": "",
   "id": "d86515b1c78587e5"
  },
  {
   "metadata": {
    "ExecuteTime": {
     "end_time": "2024-05-17T23:59:51.778059Z",
     "start_time": "2024-05-17T23:59:51.775100Z"
    }
   },
   "cell_type": "code",
   "source": [
    "def read_dataframe(path):\n",
    "    df = pd.read_parquet(path)\n",
    "    df['duration'] = df['lpep_dropoff_datetime'] - df['lpep_pickup_datetime']\n",
    "    df['duration'] = df['duration'].apply(lambda x: x.total_seconds()/60)\n",
    "    df = df[(df['duration'] > 1.0) & (df['duration'] < 60.0)]\n",
    "    categorical = ['PULocationID','DOLocationID']\n",
    "    df[categorical] = df[categorical].astype(str)\n",
    "    return df"
   ],
   "id": "6b1d179cd876af89",
   "outputs": [],
   "execution_count": 165
  },
  {
   "metadata": {
    "ExecuteTime": {
     "end_time": "2024-05-17T23:59:52.286017Z",
     "start_time": "2024-05-17T23:59:52.024606Z"
    }
   },
   "cell_type": "code",
   "source": [
    "df_train = read_dataframe(data_2401_path)\n",
    "df_val = read_dataframe(data_2402_path)"
   ],
   "id": "bbef65373ec26f8e",
   "outputs": [],
   "execution_count": 166
  },
  {
   "metadata": {
    "ExecuteTime": {
     "end_time": "2024-05-17T23:59:52.403519Z",
     "start_time": "2024-05-17T23:59:52.401428Z"
    }
   },
   "cell_type": "code",
   "source": "len(df_train),len(df_val)",
   "id": "b83e81f45769502e",
   "outputs": [
    {
     "data": {
      "text/plain": [
       "(54349, 51468)"
      ]
     },
     "execution_count": 167,
     "metadata": {},
     "output_type": "execute_result"
    }
   ],
   "execution_count": 167
  },
  {
   "metadata": {
    "ExecuteTime": {
     "end_time": "2024-05-18T00:06:40.490839Z",
     "start_time": "2024-05-18T00:06:40.472917Z"
    }
   },
   "cell_type": "code",
   "source": [
    "df_train['PU_DOLocationID'] = df_train['PULocationID']+\"_\"+df_train['DOLocationID']\n",
    "df_val['PU_DOLocationID'] = df_val['PULocationID']+\"_\"+df_val['DOLocationID']"
   ],
   "id": "298d5d420442cb7d",
   "outputs": [],
   "execution_count": 184
  },
  {
   "metadata": {
    "ExecuteTime": {
     "end_time": "2024-05-18T00:06:56.679616Z",
     "start_time": "2024-05-18T00:06:56.467009Z"
    }
   },
   "cell_type": "code",
   "source": [
    "categorical = ['PULocationID','DOLocationID','PU_DOLocationID']\n",
    "numerical = ['trip_distance']\n",
    "\n",
    "dv = DictVectorizer()\n",
    "dv.feature_names_\n",
    "\n",
    "train_dicts = df_train[categorical+numerical].to_dict(orient=\"records\")\n",
    "x_train = dv.fit_transform(train_dicts)\n",
    "\n",
    "val_dicts = df_val[categorical+numerical].to_dict(orient=\"records\")\n",
    "x_val = dv.transform(val_dicts)"
   ],
   "id": "787eb4f1ce381373",
   "outputs": [],
   "execution_count": 185
  },
  {
   "metadata": {
    "ExecuteTime": {
     "end_time": "2024-05-18T00:06:57.647837Z",
     "start_time": "2024-05-18T00:06:57.644822Z"
    }
   },
   "cell_type": "code",
   "source": [
    "target = 'duration'\n",
    "y_train = df_train[target].values\n",
    "y_val = df_val[target].values"
   ],
   "id": "a061cb9248b3d591",
   "outputs": [],
   "execution_count": 186
  },
  {
   "metadata": {
    "ExecuteTime": {
     "end_time": "2024-05-18T00:16:46.925317Z",
     "start_time": "2024-05-18T00:16:46.874009Z"
    }
   },
   "cell_type": "code",
   "source": [
    "lr = LinearRegression()\n",
    "lr.fit(x_train,y_train)\n",
    "\n",
    "y_pred = lr.predict(x_val)\n",
    "\n",
    "mean_squared_error(y_val,y_pred,squared=False) "
   ],
   "id": "69b48489e8a27b76",
   "outputs": [
    {
     "name": "stderr",
     "output_type": "stream",
     "text": [
      "/opt/anaconda3/envs/mlopszoomcamp/lib/python3.12/site-packages/sklearn/metrics/_regression.py:483: FutureWarning: 'squared' is deprecated in version 1.4 and will be removed in 1.6. To calculate the root mean squared error, use the function'root_mean_squared_error'.\n",
      "  warnings.warn(\n"
     ]
    },
    {
     "data": {
      "text/plain": [
       "5.919781845355132"
      ]
     },
     "execution_count": 191,
     "metadata": {},
     "output_type": "execute_result"
    }
   ],
   "execution_count": 191
  },
  {
   "metadata": {
    "ExecuteTime": {
     "end_time": "2024-05-18T00:17:24.181223Z",
     "start_time": "2024-05-18T00:17:24.168561Z"
    }
   },
   "cell_type": "code",
   "source": [
    "with open(\"model/lin_reg.bin\",'wb') as file:\n",
    "    pickle.dump((dv,lr), file)"
   ],
   "id": "323b92205db2393f",
   "outputs": [],
   "execution_count": 193
  },
  {
   "metadata": {
    "ExecuteTime": {
     "end_time": "2024-05-18T00:18:52.475746Z",
     "start_time": "2024-05-18T00:17:28.043790Z"
    }
   },
   "cell_type": "code",
   "source": [
    "lr = Lasso(alpha=0.001)\n",
    "lr.fit(x_train,y_train)\n",
    "\n",
    "y_pred = lr.predict(x_val)\n",
    "\n",
    "mean_squared_error(y_val,y_pred,squared=False) "
   ],
   "id": "88e3bc3057841c24",
   "outputs": [
    {
     "name": "stderr",
     "output_type": "stream",
     "text": [
      "/opt/anaconda3/envs/mlopszoomcamp/lib/python3.12/site-packages/sklearn/metrics/_regression.py:483: FutureWarning: 'squared' is deprecated in version 1.4 and will be removed in 1.6. To calculate the root mean squared error, use the function'root_mean_squared_error'.\n",
      "  warnings.warn(\n"
     ]
    },
    {
     "data": {
      "text/plain": [
       "6.37083414447791"
      ]
     },
     "execution_count": 194,
     "metadata": {},
     "output_type": "execute_result"
    }
   ],
   "execution_count": 194
  },
  {
   "metadata": {
    "ExecuteTime": {
     "end_time": "2024-05-18T00:08:20.771984Z",
     "start_time": "2024-05-18T00:08:20.721215Z"
    }
   },
   "cell_type": "code",
   "source": [
    "lr = Ridge(alpha=0.01)\n",
    "lr.fit(x_train,y_train)\n",
    "\n",
    "y_pred = lr.predict(x_val)\n",
    "\n",
    "mean_squared_error(y_val,y_pred,squared=False) "
   ],
   "id": "1c0e7d4e121166b5",
   "outputs": [
    {
     "name": "stderr",
     "output_type": "stream",
     "text": [
      "/opt/anaconda3/envs/mlopszoomcamp/lib/python3.12/site-packages/sklearn/metrics/_regression.py:483: FutureWarning: 'squared' is deprecated in version 1.4 and will be removed in 1.6. To calculate the root mean squared error, use the function'root_mean_squared_error'.\n",
      "  warnings.warn(\n"
     ]
    },
    {
     "data": {
      "text/plain": [
       "5.913648011158057"
      ]
     },
     "execution_count": 189,
     "metadata": {},
     "output_type": "execute_result"
    }
   ],
   "execution_count": 189
  },
  {
   "metadata": {},
   "cell_type": "code",
   "outputs": [],
   "execution_count": null,
   "source": "",
   "id": "5d165dbb90ee3dfc"
  }
 ],
 "metadata": {
  "kernelspec": {
   "display_name": "Python 3",
   "language": "python",
   "name": "python3"
  },
  "language_info": {
   "codemirror_mode": {
    "name": "ipython",
    "version": 2
   },
   "file_extension": ".py",
   "mimetype": "text/x-python",
   "name": "python",
   "nbconvert_exporter": "python",
   "pygments_lexer": "ipython2",
   "version": "2.7.6"
  }
 },
 "nbformat": 4,
 "nbformat_minor": 5
}
