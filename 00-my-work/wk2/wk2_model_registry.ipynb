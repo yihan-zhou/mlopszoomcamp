{
 "cells": [
  {
   "metadata": {},
   "cell_type": "markdown",
   "source": "# Access MLflow UI via APIs",
   "id": "3b4fe01764676d4d"
  },
  {
   "cell_type": "code",
   "id": "initial_id",
   "metadata": {
    "collapsed": true,
    "ExecuteTime": {
     "end_time": "2024-05-22T23:48:18.942266Z",
     "start_time": "2024-05-22T23:48:18.788499Z"
    }
   },
   "source": [
    "from mlflow.tracking import MlflowClient\n",
    "from mlflow.entities import ViewType\n",
    "import mlflow\n",
    "from datetime import datetime"
   ],
   "outputs": [],
   "execution_count": 1
  },
  {
   "metadata": {},
   "cell_type": "markdown",
   "source": "## Get experiements",
   "id": "6ab3dd1459887308"
  },
  {
   "metadata": {
    "ExecuteTime": {
     "end_time": "2024-05-23T00:06:37.678765Z",
     "start_time": "2024-05-23T00:06:37.675544Z"
    }
   },
   "cell_type": "code",
   "source": [
    "MLFLOW_TRACKING_URI = \"sqlite:///mlflow.db\"\n",
    "\n",
    "client = MlflowClient(tracking_uri=MLFLOW_TRACKING_URI)"
   ],
   "id": "ceb34950a2b29e39",
   "outputs": [],
   "execution_count": 24
  },
  {
   "metadata": {
    "ExecuteTime": {
     "end_time": "2024-05-23T00:06:42.804072Z",
     "start_time": "2024-05-23T00:06:42.797337Z"
    }
   },
   "cell_type": "code",
   "source": "client.search_experiments()",
   "id": "e2f346e461ece08e",
   "outputs": [
    {
     "data": {
      "text/plain": [
       "[<Experiment: artifact_location='/Users/yihanzhou/PycharmProjects/mlops-zoomcamp/00-my-work/wk2/mlruns/2', creation_time=1716419576909, experiment_id='2', last_update_time=1716419576909, lifecycle_stage='active', name='demo_experiment', tags={}>,\n",
       " <Experiment: artifact_location='/Users/yihanzhou/PycharmProjects/mlops-zoomcamp/00-my-work/mlruns/1', creation_time=1716360482562, experiment_id='1', last_update_time=1716360482562, lifecycle_stage='active', name='nyc_taxis', tags={}>]"
      ]
     },
     "execution_count": 25,
     "metadata": {},
     "output_type": "execute_result"
    }
   ],
   "execution_count": 25
  },
  {
   "metadata": {},
   "cell_type": "markdown",
   "source": "## Create new experiment",
   "id": "b5a8be2360de7b66"
  },
  {
   "metadata": {
    "ExecuteTime": {
     "end_time": "2024-05-22T23:48:35.028723Z",
     "start_time": "2024-05-22T23:48:35.027078Z"
    }
   },
   "cell_type": "code",
   "source": "client.create_experiment(name=\"demo_experiment\")",
   "id": "9b7d149005994116",
   "outputs": [],
   "execution_count": 5
  },
  {
   "metadata": {
    "ExecuteTime": {
     "end_time": "2024-05-22T23:48:36.672861Z",
     "start_time": "2024-05-22T23:48:36.654971Z"
    }
   },
   "cell_type": "code",
   "source": [
    "runs = client.search_runs(\n",
    "    experiment_ids='1',\n",
    "    filter_string='metrics.rmse < 6.8',\n",
    "    run_view_type=ViewType.ACTIVE_ONLY,\n",
    "    max_results=5,\n",
    "    order_by=['metrics.rmse ASC']\n",
    ")"
   ],
   "id": "1f711a89d55dfc",
   "outputs": [],
   "execution_count": 6
  },
  {
   "metadata": {
    "ExecuteTime": {
     "end_time": "2024-05-22T23:48:38.052518Z",
     "start_time": "2024-05-22T23:48:38.049589Z"
    }
   },
   "cell_type": "code",
   "source": [
    "for r in runs:\n",
    "    print(f\"run id: {r.info.run_id}, rmse: {r.data.metrics['rmse']:.4f}\")"
   ],
   "id": "48d68b5cbf77fe65",
   "outputs": [
    {
     "name": "stdout",
     "output_type": "stream",
     "text": [
      "run id: 8aa8ce40637e49a99803c419b8d1149d, rmse: 4.9903\n",
      "run id: 9d3949c3f9944fdfa92893a9f443f2c7, rmse: 5.0029\n",
      "run id: 0dd19feb122a48efb456798058d83949, rmse: 5.0042\n",
      "run id: 4b27d705160442e68f18a0d8b67c192b, rmse: 5.0055\n",
      "run id: f170df1d58e84d01a6f64c1951a196ff, rmse: 5.0098\n"
     ]
    }
   ],
   "execution_count": 7
  },
  {
   "metadata": {},
   "cell_type": "markdown",
   "source": "# Promote models for registry",
   "id": "494ebc08ac806f43"
  },
  {
   "metadata": {
    "ExecuteTime": {
     "end_time": "2024-05-23T00:09:10.338732Z",
     "start_time": "2024-05-23T00:09:10.335298Z"
    }
   },
   "cell_type": "code",
   "source": "mlflow.set_tracking_uri(MLFLOW_TRACKING_URI)",
   "id": "7d47b72ab8cf6b31",
   "outputs": [],
   "execution_count": 28
  },
  {
   "metadata": {
    "ExecuteTime": {
     "end_time": "2024-05-23T00:09:12.479409Z",
     "start_time": "2024-05-23T00:09:12.453013Z"
    }
   },
   "cell_type": "code",
   "source": [
    "run_id = \"b9078223b5944af9ac8a0a6c57127cdb\"\n",
    "model_uri = f\"runs:/{run_id}/model\"\n",
    "name = \"nyc_taxis_xgboost\"\n",
    "mlflow.register_model(model_uri=model_uri, name=name)"
   ],
   "id": "ab2d52da4890e70c",
   "outputs": [
    {
     "name": "stderr",
     "output_type": "stream",
     "text": [
      "Registered model 'nyc_taxis_xgboost' already exists. Creating a new version of this model...\n",
      "Created version '3' of model 'nyc_taxis_xgboost'.\n"
     ]
    },
    {
     "data": {
      "text/plain": [
       "<ModelVersion: aliases=[], creation_timestamp=1716422952472, current_stage='None', description=None, last_updated_timestamp=1716422952472, name='nyc_taxis_xgboost', run_id='b9078223b5944af9ac8a0a6c57127cdb', run_link=None, source='/Users/yihanzhou/PycharmProjects/mlops-zoomcamp/00-my-work/mlruns/1/b9078223b5944af9ac8a0a6c57127cdb/artifacts/model', status='READY', status_message=None, tags={}, user_id=None, version=3>"
      ]
     },
     "execution_count": 29,
     "metadata": {},
     "output_type": "execute_result"
    }
   ],
   "execution_count": 29
  },
  {
   "metadata": {},
   "cell_type": "markdown",
   "source": "## Get latest versions",
   "id": "46cdc78ce87373fe"
  },
  {
   "metadata": {},
   "cell_type": "markdown",
   "source": [
    "Registered model 'nyc_taxis_xgboost' already exists. Creating a new version of this model...\n",
    "Created version '2' of model 'nyc_taxis_xgboost'.\n",
    "\n",
    "This will reflect on mlflow ui that the Latest version is \"Version 2\""
   ],
   "id": "42c8cc84b9f67f7b"
  },
  {
   "metadata": {},
   "cell_type": "code",
   "source": [
    "latest_versions = client.get_latest_versions(name=name)\n",
    "for v in latest_versions:\n",
    "    print(f\"version: {v.version}, stage: {v.current_stage}\")"
   ],
   "id": "f417822ba43ae32b",
   "outputs": [],
   "execution_count": null
  },
  {
   "metadata": {},
   "cell_type": "markdown",
   "source": [
    "## Update model stage\n",
    "Assuming we want to transit \"version 2\" to \"Staging\". "
   ],
   "id": "f2ebba1edadd9593"
  },
  {
   "metadata": {},
   "cell_type": "code",
   "source": [
    "client.transition_model_version_stage(\n",
    "    name=name,\n",
    "    version=2,\n",
    "    stage=\"Staging\",\n",
    "    archive_existing_versions=False\n",
    ")"
   ],
   "id": "5e1c8b455b3f66f0",
   "outputs": [],
   "execution_count": null
  },
  {
   "metadata": {},
   "cell_type": "markdown",
   "source": "## Annotate model",
   "id": "bffc713f9fd31097"
  },
  {
   "metadata": {},
   "cell_type": "code",
   "source": [
    "date = datetime.today().date()\n",
    "client.update_model_version(\n",
    "    name=name,\n",
    "    version=2,\n",
    "    description=f\"The model version was transitioned to staging on {date}.\"\n",
    ")"
   ],
   "id": "cd5d6c2c64887711",
   "outputs": [],
   "execution_count": null
  },
  {
   "metadata": {},
   "cell_type": "markdown",
   "source": "",
   "id": "6252fb35386aa03c"
  },
  {
   "metadata": {},
   "cell_type": "markdown",
   "source": "## Compare versions ",
   "id": "34b2dc20d6166355"
  },
  {
   "metadata": {
    "ExecuteTime": {
     "end_time": "2024-05-22T23:58:23.688627Z",
     "start_time": "2024-05-22T23:58:23.572486Z"
    }
   },
   "cell_type": "code",
   "source": [
    "from sklearn.metrics import mean_squared_error\n",
    "import pandas as pd\n",
    "\n",
    "\n",
    "def read_dataframe(path):\n",
    "    df = pd.read_parquet(path)\n",
    "    df['duration'] = df['lpep_dropoff_datetime'] - df['lpep_pickup_datetime']\n",
    "    df['duration'] = df['duration'].apply(lambda x: x.total_seconds()/60)\n",
    "    df = df[(df['duration'] > 1.0) & (df['duration'] < 60.0)]\n",
    "    categorical = ['PULocationID','DOLocationID']\n",
    "    df[categorical] = df[categorical].astype(str)\n",
    "    return df\n",
    "\n",
    "def preprocess(df, dv):\n",
    "    df['PU_DO'] = df['PULocationID'] + '_' + df['DOLocationID']\n",
    "    categorical = ['PU_DO']\n",
    "    numerical = ['trip_distance']\n",
    "    train_dicts = df[categorical + numerical].to_dict(orient='records')\n",
    "    return dv.transform(train_dicts)\n",
    "\n",
    "\n",
    "def test_model(name, stage, X_test, y_test):\n",
    "    model = mlflow.pyfunc.load_model(f\"models:/{name}/{stage}\")\n",
    "    y_pred = model.predict(X_test)\n",
    "    return {\"rmse\": mean_squared_error(y_test, y_pred, squared=False)}"
   ],
   "id": "38a9b1874481bdb",
   "outputs": [],
   "execution_count": 9
  },
  {
   "metadata": {},
   "cell_type": "markdown",
   "source": "",
   "id": "535e2a4b65b9b157"
  },
  {
   "metadata": {
    "ExecuteTime": {
     "end_time": "2024-05-22T23:59:46.904084Z",
     "start_time": "2024-05-22T23:59:46.782629Z"
    }
   },
   "cell_type": "code",
   "source": [
    "data_2403_path = \"/Users/yihanzhou/PycharmProjects/mlops-zoomcamp/data/green_tripdata_2024-03.parquet\"\n",
    "df = read_dataframe(data_2403_path)"
   ],
   "id": "5721be146f9e1d44",
   "outputs": [],
   "execution_count": 11
  },
  {
   "metadata": {
    "ExecuteTime": {
     "end_time": "2024-05-23T00:01:51.655694Z",
     "start_time": "2024-05-23T00:01:51.616858Z"
    }
   },
   "cell_type": "code",
   "source": "client.download_artifacts(run_id=run_id, path=\"preprocessor\", dst_path=\".\")",
   "id": "aa728882477f3da4",
   "outputs": [
    {
     "data": {
      "text/plain": [
       "Downloading artifacts:   0%|          | 0/1 [00:00<?, ?it/s]"
      ],
      "application/vnd.jupyter.widget-view+json": {
       "version_major": 2,
       "version_minor": 0,
       "model_id": "e38f3c91f1cc4911b1ecb7e5a03ff13b"
      }
     },
     "metadata": {},
     "output_type": "display_data"
    },
    {
     "data": {
      "text/plain": [
       "'/Users/yihanzhou/PycharmProjects/mlops-zoomcamp/00-my-work/wk2/preprocessor'"
      ]
     },
     "execution_count": 16,
     "metadata": {},
     "output_type": "execute_result"
    }
   ],
   "execution_count": 16
  },
  {
   "metadata": {
    "ExecuteTime": {
     "end_time": "2024-05-23T00:03:16.591198Z",
     "start_time": "2024-05-23T00:03:16.571517Z"
    }
   },
   "cell_type": "code",
   "source": [
    "import pickle\n",
    "\n",
    "with open(\"preprocessor/preprocessor.b\",\"rb\") as f_in:\n",
    "    dv = pickle.load(f_in)"
   ],
   "id": "81e71db5a27ff3ac",
   "outputs": [],
   "execution_count": 17
  },
  {
   "metadata": {
    "ExecuteTime": {
     "end_time": "2024-05-23T00:04:28.022384Z",
     "start_time": "2024-05-23T00:04:27.954173Z"
    }
   },
   "cell_type": "code",
   "source": "x_test = preprocess(df, dv)",
   "id": "9650fdc27c74f930",
   "outputs": [],
   "execution_count": 19
  },
  {
   "metadata": {
    "ExecuteTime": {
     "end_time": "2024-05-23T00:04:50.035547Z",
     "start_time": "2024-05-23T00:04:50.030816Z"
    }
   },
   "cell_type": "code",
   "source": [
    "target = \"duration\"\n",
    "y_test = df[target].values"
   ],
   "id": "da39bda6aa62ade2",
   "outputs": [],
   "execution_count": 20
  },
  {
   "metadata": {
    "ExecuteTime": {
     "end_time": "2024-05-23T00:09:28.705895Z",
     "start_time": "2024-05-23T00:09:28.464476Z"
    }
   },
   "cell_type": "code",
   "source": "%time test_model(name=name, stage=\"Production\", X_test=x_test, y_test=y_test)",
   "id": "5975114992f065b8",
   "outputs": [
    {
     "name": "stderr",
     "output_type": "stream",
     "text": [
      "/opt/anaconda3/envs/mlopszoomcamp/lib/python3.12/site-packages/mlflow/store/artifact/utils/models.py:32: FutureWarning: ``mlflow.tracking.client.MlflowClient.get_latest_versions`` is deprecated since 2.9.0. Model registry stages will be removed in a future major release. To learn more about the deprecation of model registry stages, see our migration guide here: https://mlflow.org/docs/2.12.2/model-registry.html#migrating-from-stages\n",
      "  latest = client.get_latest_versions(name, None if stage is None else [stage])\n",
      "/opt/anaconda3/envs/mlopszoomcamp/lib/python3.12/site-packages/xgboost/core.py:160: UserWarning: [17:09:28] WARNING: /var/folders/nz/j6p8yfhx1mv_0grj5xl4650h0000gp/T/abs_b6b50u1t0e/croot/xgboost-split_1713972723244/work/cpp_src/src/objective/regression_obj.cu:209: reg:linear is now deprecated in favor of reg:squarederror.\n",
      "  warnings.warn(smsg, UserWarning)\n"
     ]
    },
    {
     "name": "stdout",
     "output_type": "stream",
     "text": [
      "CPU times: user 2.3 s, sys: 112 ms, total: 2.41 s\n",
      "Wall time: 238 ms\n"
     ]
    },
    {
     "name": "stderr",
     "output_type": "stream",
     "text": [
      "/opt/anaconda3/envs/mlopszoomcamp/lib/python3.12/site-packages/sklearn/metrics/_regression.py:483: FutureWarning: 'squared' is deprecated in version 1.4 and will be removed in 1.6. To calculate the root mean squared error, use the function'root_mean_squared_error'.\n",
      "  warnings.warn(\n"
     ]
    },
    {
     "data": {
      "text/plain": [
       "{'rmse': 5.754326871459331}"
      ]
     },
     "execution_count": 31,
     "metadata": {},
     "output_type": "execute_result"
    }
   ],
   "execution_count": 31
  },
  {
   "metadata": {
    "ExecuteTime": {
     "end_time": "2024-05-23T00:09:52.085789Z",
     "start_time": "2024-05-23T00:09:51.865334Z"
    }
   },
   "cell_type": "code",
   "source": "%time test_model(name=name, stage=\"Staging\", X_test=x_test, y_test=y_test)",
   "id": "4e26dd50052bf347",
   "outputs": [
    {
     "name": "stderr",
     "output_type": "stream",
     "text": [
      "/opt/anaconda3/envs/mlopszoomcamp/lib/python3.12/site-packages/mlflow/store/artifact/utils/models.py:32: FutureWarning: ``mlflow.tracking.client.MlflowClient.get_latest_versions`` is deprecated since 2.9.0. Model registry stages will be removed in a future major release. To learn more about the deprecation of model registry stages, see our migration guide here: https://mlflow.org/docs/2.12.2/model-registry.html#migrating-from-stages\n",
      "  latest = client.get_latest_versions(name, None if stage is None else [stage])\n",
      "/opt/anaconda3/envs/mlopszoomcamp/lib/python3.12/site-packages/xgboost/core.py:160: UserWarning: [17:09:51] WARNING: /var/folders/nz/j6p8yfhx1mv_0grj5xl4650h0000gp/T/abs_b6b50u1t0e/croot/xgboost-split_1713972723244/work/cpp_src/src/objective/regression_obj.cu:209: reg:linear is now deprecated in favor of reg:squarederror.\n",
      "  warnings.warn(smsg, UserWarning)\n"
     ]
    },
    {
     "name": "stdout",
     "output_type": "stream",
     "text": [
      "CPU times: user 2.21 s, sys: 47.5 ms, total: 2.26 s\n",
      "Wall time: 218 ms\n"
     ]
    },
    {
     "name": "stderr",
     "output_type": "stream",
     "text": [
      "/opt/anaconda3/envs/mlopszoomcamp/lib/python3.12/site-packages/sklearn/metrics/_regression.py:483: FutureWarning: 'squared' is deprecated in version 1.4 and will be removed in 1.6. To calculate the root mean squared error, use the function'root_mean_squared_error'.\n",
      "  warnings.warn(\n"
     ]
    },
    {
     "data": {
      "text/plain": [
       "{'rmse': 5.754326871459331}"
      ]
     },
     "execution_count": 32,
     "metadata": {},
     "output_type": "execute_result"
    }
   ],
   "execution_count": 32
  }
 ],
 "metadata": {
  "kernelspec": {
   "display_name": "Python 3",
   "language": "python",
   "name": "python3"
  },
  "language_info": {
   "codemirror_mode": {
    "name": "ipython",
    "version": 2
   },
   "file_extension": ".py",
   "mimetype": "text/x-python",
   "name": "python",
   "nbconvert_exporter": "python",
   "pygments_lexer": "ipython2",
   "version": "2.7.6"
  }
 },
 "nbformat": 4,
 "nbformat_minor": 5
}
