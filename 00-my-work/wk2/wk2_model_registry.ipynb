{
 "cells": [
  {
   "metadata": {},
   "cell_type": "markdown",
   "source": "# Access MLflow UI via APIs",
   "id": "3b4fe01764676d4d"
  },
  {
   "cell_type": "code",
   "id": "initial_id",
   "metadata": {
    "collapsed": true,
    "ExecuteTime": {
     "end_time": "2024-05-22T23:48:18.942266Z",
     "start_time": "2024-05-22T23:48:18.788499Z"
    }
   },
   "source": [
    "from mlflow.tracking import MlflowClient\n",
    "from mlflow.entities import ViewType\n",
    "import mlflow\n",
    "from datetime import datetime"
   ],
   "execution_count": 1,
   "outputs": []
  },
  {
   "metadata": {},
   "cell_type": "markdown",
   "source": "## Get experiements",
   "id": "6ab3dd1459887308"
  },
  {
   "metadata": {
    "ExecuteTime": {
     "end_time": "2024-05-23T00:06:37.678765Z",
     "start_time": "2024-05-23T00:06:37.675544Z"
    }
   },
   "cell_type": "code",
   "source": [
    "MLFLOW_TRACKING_URI = \"sqlite:///mlflow.db\"\n",
    "\n",
    "client = MlflowClient(tracking_uri=MLFLOW_TRACKING_URI)"
   ],
   "id": "ceb34950a2b29e39",
   "execution_count": 24,
   "outputs": []
  },
  {
   "metadata": {
    "ExecuteTime": {
     "end_time": "2024-05-23T00:06:42.804072Z",
     "start_time": "2024-05-23T00:06:42.797337Z"
    }
   },
   "cell_type": "code",
   "source": "client.search_experiments()",
   "id": "e2f346e461ece08e",
   "execution_count": 25,
   "outputs": []
  },
  {
   "metadata": {},
   "cell_type": "markdown",
   "source": "## Create new experiment",
   "id": "b5a8be2360de7b66"
  },
  {
   "metadata": {
    "ExecuteTime": {
     "end_time": "2024-05-22T23:48:35.028723Z",
     "start_time": "2024-05-22T23:48:35.027078Z"
    }
   },
   "cell_type": "code",
   "source": "client.create_experiment(name=\"demo_experiment\")",
   "id": "9b7d149005994116",
   "execution_count": 5,
   "outputs": []
  },
  {
   "metadata": {
    "ExecuteTime": {
     "end_time": "2024-05-22T23:48:36.672861Z",
     "start_time": "2024-05-22T23:48:36.654971Z"
    }
   },
   "cell_type": "code",
   "source": [
    "runs = client.search_runs(\n",
    "    experiment_ids='1',\n",
    "    filter_string='metrics.rmse < 6.8',\n",
    "    run_view_type=ViewType.ACTIVE_ONLY,\n",
    "    max_results=5,\n",
    "    order_by=['metrics.rmse ASC']\n",
    ")"
   ],
   "id": "1f711a89d55dfc",
   "execution_count": 6,
   "outputs": []
  },
  {
   "metadata": {
    "ExecuteTime": {
     "end_time": "2024-05-22T23:48:38.052518Z",
     "start_time": "2024-05-22T23:48:38.049589Z"
    }
   },
   "cell_type": "code",
   "source": [
    "for r in runs:\n",
    "    print(f\"run id: {r.info.run_id}, rmse: {r.data.metrics['rmse']:.4f}\")"
   ],
   "id": "48d68b5cbf77fe65",
   "execution_count": 7,
   "outputs": []
  },
  {
   "metadata": {},
   "cell_type": "markdown",
   "source": "# Promote models for registry",
   "id": "494ebc08ac806f43"
  },
  {
   "metadata": {
    "ExecuteTime": {
     "end_time": "2024-05-23T00:09:10.338732Z",
     "start_time": "2024-05-23T00:09:10.335298Z"
    }
   },
   "cell_type": "code",
   "source": "mlflow.set_tracking_uri(MLFLOW_TRACKING_URI)",
   "id": "7d47b72ab8cf6b31",
   "execution_count": 28,
   "outputs": []
  },
  {
   "metadata": {
    "ExecuteTime": {
     "end_time": "2024-05-23T00:09:12.479409Z",
     "start_time": "2024-05-23T00:09:12.453013Z"
    }
   },
   "cell_type": "code",
   "source": [
    "run_id = \"b9078223b5944af9ac8a0a6c57127cdb\"\n",
    "model_uri = f\"runs:/{run_id}/model\"\n",
    "name = \"nyc_taxis_xgboost\"\n",
    "mlflow.register_model(model_uri=model_uri, name=name)"
   ],
   "id": "ab2d52da4890e70c",
   "execution_count": 29,
   "outputs": []
  },
  {
   "metadata": {},
   "cell_type": "markdown",
   "source": "## Get latest versions",
   "id": "46cdc78ce87373fe"
  },
  {
   "metadata": {},
   "cell_type": "markdown",
   "source": [
    "Registered model 'nyc_taxis_xgboost' already exists. Creating a new version of this model...\n",
    "Created version '2' of model 'nyc_taxis_xgboost'.\n",
    "\n",
    "This will reflect on mlflow ui that the Latest version is \"Version 2\""
   ],
   "id": "42c8cc84b9f67f7b"
  },
  {
   "metadata": {},
   "cell_type": "code",
   "source": [
    "latest_versions = client.get_latest_versions(name=name)\n",
    "for v in latest_versions:\n",
    "    print(f\"version: {v.version}, stage: {v.current_stage}\")"
   ],
   "id": "f417822ba43ae32b",
   "execution_count": null,
   "outputs": []
  },
  {
   "metadata": {},
   "cell_type": "markdown",
   "source": [
    "## Update model stage\n",
    "Assuming we want to transit \"version 2\" to \"Staging\". "
   ],
   "id": "f2ebba1edadd9593"
  },
  {
   "metadata": {},
   "cell_type": "code",
   "source": [
    "client.transition_model_version_stage(\n",
    "    name=name,\n",
    "    version=2,\n",
    "    stage=\"Staging\",\n",
    "    archive_existing_versions=False\n",
    ")"
   ],
   "id": "5e1c8b455b3f66f0",
   "execution_count": null,
   "outputs": []
  },
  {
   "metadata": {},
   "cell_type": "markdown",
   "source": "## Annotate model",
   "id": "bffc713f9fd31097"
  },
  {
   "metadata": {},
   "cell_type": "code",
   "source": [
    "date = datetime.today().date()\n",
    "client.update_model_version(\n",
    "    name=name,\n",
    "    version=2,\n",
    "    description=f\"The model version was transitioned to staging on {date}.\"\n",
    ")"
   ],
   "id": "cd5d6c2c64887711",
   "execution_count": null,
   "outputs": []
  },
  {
   "metadata": {},
   "cell_type": "markdown",
   "source": "",
   "id": "6252fb35386aa03c"
  },
  {
   "metadata": {},
   "cell_type": "markdown",
   "source": "## Compare versions ",
   "id": "34b2dc20d6166355"
  },
  {
   "metadata": {
    "ExecuteTime": {
     "end_time": "2024-05-22T23:58:23.688627Z",
     "start_time": "2024-05-22T23:58:23.572486Z"
    }
   },
   "cell_type": "code",
   "source": [
    "from sklearn.metrics import mean_squared_error\n",
    "import pandas as pd\n",
    "\n",
    "\n",
    "def read_dataframe(path):\n",
    "    df = pd.read_parquet(path)\n",
    "    df['duration'] = df['lpep_dropoff_datetime'] - df['lpep_pickup_datetime']\n",
    "    df['duration'] = df['duration'].apply(lambda x: x.total_seconds()/60)\n",
    "    df = df[(df['duration'] > 1.0) & (df['duration'] < 60.0)]\n",
    "    categorical = ['PULocationID','DOLocationID']\n",
    "    df[categorical] = df[categorical].astype(str)\n",
    "    return df\n",
    "\n",
    "def preprocess(df, dv):\n",
    "    df['PU_DO'] = df['PULocationID'] + '_' + df['DOLocationID']\n",
    "    categorical = ['PU_DO']\n",
    "    numerical = ['trip_distance']\n",
    "    train_dicts = df[categorical + numerical].to_dict(orient='records')\n",
    "    return dv.transform(train_dicts)\n",
    "\n",
    "\n",
    "def test_model(name, stage, X_test, y_test):\n",
    "    model = mlflow.pyfunc.load_model(f\"models:/{name}/{stage}\")\n",
    "    y_pred = model.predict(X_test)\n",
    "    return {\"rmse\": mean_squared_error(y_test, y_pred, squared=False)}"
   ],
   "id": "38a9b1874481bdb",
   "execution_count": 9,
   "outputs": []
  },
  {
   "metadata": {},
   "cell_type": "markdown",
   "source": "",
   "id": "535e2a4b65b9b157"
  },
  {
   "metadata": {
    "ExecuteTime": {
     "end_time": "2024-05-22T23:59:46.904084Z",
     "start_time": "2024-05-22T23:59:46.782629Z"
    }
   },
   "cell_type": "code",
   "source": [
    "data_2403_path = \"/Users/yihanzhou/PycharmProjects/mlops-zoomcamp/data/green_tripdata_2024-03.parquet\"\n",
    "df = read_dataframe(data_2403_path)"
   ],
   "id": "5721be146f9e1d44",
   "execution_count": 11,
   "outputs": []
  },
  {
   "metadata": {
    "ExecuteTime": {
     "end_time": "2024-05-23T00:01:51.655694Z",
     "start_time": "2024-05-23T00:01:51.616858Z"
    }
   },
   "cell_type": "code",
   "source": "client.download_artifacts(run_id=run_id, path=\"preprocessor\", dst_path=\".\")",
   "id": "aa728882477f3da4",
   "execution_count": 16,
   "outputs": []
  },
  {
   "metadata": {
    "ExecuteTime": {
     "end_time": "2024-05-23T00:03:16.591198Z",
     "start_time": "2024-05-23T00:03:16.571517Z"
    }
   },
   "cell_type": "code",
   "source": [
    "import pickle\n",
    "\n",
    "with open(\"preprocessor/preprocessor.b\",\"rb\") as f_in:\n",
    "    dv = pickle.load(f_in)"
   ],
   "id": "81e71db5a27ff3ac",
   "execution_count": 17,
   "outputs": []
  },
  {
   "metadata": {
    "ExecuteTime": {
     "end_time": "2024-05-23T00:04:28.022384Z",
     "start_time": "2024-05-23T00:04:27.954173Z"
    }
   },
   "cell_type": "code",
   "source": "x_test = preprocess(df, dv)",
   "id": "9650fdc27c74f930",
   "execution_count": 19,
   "outputs": []
  },
  {
   "metadata": {
    "ExecuteTime": {
     "end_time": "2024-05-23T00:04:50.035547Z",
     "start_time": "2024-05-23T00:04:50.030816Z"
    }
   },
   "cell_type": "code",
   "source": [
    "target = \"duration\"\n",
    "y_test = df[target].values"
   ],
   "id": "da39bda6aa62ade2",
   "execution_count": 20,
   "outputs": []
  },
  {
   "metadata": {
    "ExecuteTime": {
     "end_time": "2024-05-23T00:09:28.705895Z",
     "start_time": "2024-05-23T00:09:28.464476Z"
    }
   },
   "cell_type": "code",
   "source": "%time test_model(name=name, stage=\"Production\", X_test=x_test, y_test=y_test)",
   "id": "5975114992f065b8",
   "execution_count": 31,
   "outputs": []
  },
  {
   "metadata": {
    "ExecuteTime": {
     "end_time": "2024-05-23T00:09:52.085789Z",
     "start_time": "2024-05-23T00:09:51.865334Z"
    }
   },
   "cell_type": "code",
   "source": "%time test_model(name=name, stage=\"Staging\", X_test=x_test, y_test=y_test)",
   "id": "4e26dd50052bf347",
   "execution_count": 32,
   "outputs": []
  }
 ],
 "metadata": {
  "kernelspec": {
   "display_name": "Python 3",
   "language": "python",
   "name": "python3"
  },
  "language_info": {
   "codemirror_mode": {
    "name": "ipython",
    "version": 2
   },
   "file_extension": ".py",
   "mimetype": "text/x-python",
   "name": "python",
   "nbconvert_exporter": "python",
   "pygments_lexer": "ipython2",
   "version": "2.7.6"
  }
 },
 "nbformat": 4,
 "nbformat_minor": 5
}
