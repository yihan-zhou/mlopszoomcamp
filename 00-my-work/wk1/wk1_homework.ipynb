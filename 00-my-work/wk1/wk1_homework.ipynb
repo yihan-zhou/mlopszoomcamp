{
 "cells": [
  {
   "metadata": {},
   "cell_type": "markdown",
   "source": "",
   "id": "89815f4f96906631"
  },
  {
   "metadata": {},
   "cell_type": "markdown",
   "source": [
    "## Homework\n",
    "\n",
    "The goal of this homework is to train a simple model for predicting the duration of a ride - similar to what we did in this module.\n",
    "Time used: 44mins.\n",
    "\n",
    "\n",
    "## Q1. Downloading the data\n",
    "\n",
    "We'll use [the same NYC taxi dataset](https://www1.nyc.gov/site/tlc/about/tlc-trip-record-data.page),\n",
    "but instead of \"**Green** Taxi Trip Records\", we'll use \"**Yellow** Taxi Trip Records\".\n",
    "\n",
    "Download the data for January and February 2023.\n",
    "Read the data for January. How many columns are there?\n",
    "\n",
    "* 16\n",
    "* 17\n",
    "* 18\n",
    "* 19\n",
    "\n",
    "Answer: 19"
   ],
   "id": "2f50919a36f7242b"
  },
  {
   "metadata": {
    "ExecuteTime": {
     "end_time": "2024-05-20T18:28:20.791249Z",
     "start_time": "2024-05-20T18:28:20.786228Z"
    }
   },
   "cell_type": "code",
   "source": [
    "import pandas as pd\n",
    "import numpy as np\n",
    "import copy\n",
    "from sklearn.feature_extraction import DictVectorizer\n",
    "from sklearn.linear_model import LinearRegression\n",
    "from sklearn.metrics import root_mean_squared_error\n",
    "from scipy.sparse import csr_matrix\n",
    "from typing import List"
   ],
   "id": "f43e58cc46606dce",
   "execution_count": 50,
   "outputs": []
  },
  {
   "cell_type": "code",
   "id": "initial_id",
   "metadata": {
    "collapsed": true,
    "ExecuteTime": {
     "end_time": "2024-05-20T17:49:38.277674Z",
     "start_time": "2024-05-20T17:49:38.275059Z"
    }
   },
   "source": [
    "path_jan = \"/data/homework/yellow_tripdata_2023-01.parquet\"\n",
    "path_feb = \"/data/homework/yellow_tripdata_2023-02.parquet\""
   ],
   "execution_count": 3,
   "outputs": []
  },
  {
   "metadata": {
    "ExecuteTime": {
     "end_time": "2024-05-20T18:31:56.866742Z",
     "start_time": "2024-05-20T18:31:56.172167Z"
    }
   },
   "cell_type": "code",
   "source": [
    "df_jan = pd.read_parquet(path_jan)\n",
    "df_feb = pd.read_parquet(path_feb)\n",
    "df_jan.head()"
   ],
   "id": "7033963042e95e0c",
   "execution_count": 55,
   "outputs": []
  },
  {
   "metadata": {
    "ExecuteTime": {
     "end_time": "2024-05-20T17:51:22.071444Z",
     "start_time": "2024-05-20T17:51:22.066923Z"
    }
   },
   "cell_type": "code",
   "source": [
    "col_count_jan = len(df_jan.columns)\n",
    "print(col_count_jan)"
   ],
   "id": "d8f1add736cc0466",
   "execution_count": 6,
   "outputs": []
  },
  {
   "metadata": {},
   "cell_type": "markdown",
   "source": [
    "## Q2. Computing duration\n",
    "\n",
    "Now let's compute the `duration` variable. It should contain the duration of a ride in minutes. \n",
    "\n",
    "What's the standard deviation of the trips duration in January?\n",
    "\n",
    "* 32.59\n",
    "* 42.59\n",
    "* 52.59\n",
    "* 62.59\n",
    "\n",
    "Answer: 42.59"
   ],
   "id": "6f5f296aa9ef5c89"
  },
  {
   "metadata": {
    "ExecuteTime": {
     "end_time": "2024-05-20T17:56:48.275175Z",
     "start_time": "2024-05-20T17:56:44.933417Z"
    }
   },
   "cell_type": "code",
   "source": [
    "df_jan['duration'] = df_jan['tpep_dropoff_datetime'] - df_jan['tpep_pickup_datetime'] \n",
    "# use apply function and x.total_seconds\n",
    "df_jan['duration'] = df_jan['duration'].apply(lambda x: x.total_seconds()/60)"
   ],
   "id": "c1cf693a7675028",
   "execution_count": 15,
   "outputs": []
  },
  {
   "metadata": {
    "ExecuteTime": {
     "end_time": "2024-05-20T17:57:35.557552Z",
     "start_time": "2024-05-20T17:57:35.431362Z"
    }
   },
   "cell_type": "code",
   "source": "print(np.std(df_jan['duration'].tolist()))",
   "id": "650fa14a56cdfca6",
   "execution_count": 18,
   "outputs": []
  },
  {
   "metadata": {},
   "cell_type": "markdown",
   "source": [
    "## Q3. Dropping outliers\n",
    "\n",
    "Next, we need to check the distribution of the `duration` variable. There are some outliers. Let's remove them and keep only the records where the duration was between 1 and 60 minutes (inclusive).\n",
    "\n",
    "What fraction of the records left after you dropped the outliers?\n",
    "\n",
    "* 90%\n",
    "* 92%\n",
    "* 95%\n",
    "* 98%\n",
    "\n",
    "Answer: 98%"
   ],
   "id": "2193902f6206eec9"
  },
  {
   "metadata": {
    "ExecuteTime": {
     "end_time": "2024-05-20T18:00:50.555907Z",
     "start_time": "2024-05-20T18:00:50.156773Z"
    }
   },
   "cell_type": "code",
   "source": "df_jan_og = copy.deepcopy(df_jan)",
   "id": "d2db8f26155878f7",
   "execution_count": 21,
   "outputs": []
  },
  {
   "metadata": {
    "ExecuteTime": {
     "end_time": "2024-05-20T18:00:52.317829Z",
     "start_time": "2024-05-20T18:00:52.203362Z"
    }
   },
   "cell_type": "code",
   "source": "df_jan = df_jan[(df_jan['duration'] >= 1.0)&(df_jan['duration'] <= 60.0)]",
   "id": "bbca30f9cc50d5c",
   "execution_count": 22,
   "outputs": []
  },
  {
   "metadata": {
    "ExecuteTime": {
     "end_time": "2024-05-20T18:01:14.525485Z",
     "start_time": "2024-05-20T18:01:14.522634Z"
    }
   },
   "cell_type": "code",
   "source": "print(len(df_jan)/len(df_jan_og))",
   "id": "210653605c0fa4a5",
   "execution_count": 23,
   "outputs": []
  },
  {
   "metadata": {},
   "cell_type": "markdown",
   "source": [
    "## Q4. One-hot encoding\n",
    "\n",
    "Let's apply one-hot encoding to the pickup and dropoff location IDs. We'll use only these two features for our model. \n",
    "\n",
    "* Turn the dataframe into a list of dictionaries (remember to re-cast the ids to strings - otherwise it will \n",
    "  label encode them)\n",
    "* Fit a dictionary vectorizer \n",
    "* Get a feature matrix from it\n",
    "\n",
    "What's the dimensionality of this matrix (number of columns)?\n",
    "\n",
    "* 2\n",
    "* 155\n",
    "* 345\n",
    "* 515\n",
    "* 715\n",
    "\n",
    "Answer: 515"
   ],
   "id": "6b0bb1d686896d2"
  },
  {
   "metadata": {
    "ExecuteTime": {
     "end_time": "2024-05-20T18:10:21.433103Z",
     "start_time": "2024-05-20T18:10:20.942741Z"
    }
   },
   "cell_type": "code",
   "source": [
    "features = ['PULocationID', 'DOLocationID']\n",
    "for f in features:\n",
    "    df_jan[f] = df_jan[f].astype('str')"
   ],
   "id": "8fe64b718c4f9cf",
   "execution_count": 32,
   "outputs": []
  },
  {
   "metadata": {
    "ExecuteTime": {
     "end_time": "2024-05-20T18:10:53.611339Z",
     "start_time": "2024-05-20T18:10:51.313912Z"
    }
   },
   "cell_type": "code",
   "source": "df_jan_dict = df_jan[features].to_dict(orient='records')",
   "id": "814e19bdad9b65e1",
   "execution_count": 34,
   "outputs": []
  },
  {
   "metadata": {
    "ExecuteTime": {
     "end_time": "2024-05-20T18:34:28.178960Z",
     "start_time": "2024-05-20T18:34:26.146915Z"
    }
   },
   "cell_type": "code",
   "source": [
    "dv = DictVectorizer()\n",
    "x_train = dv.fit_transform(df_jan_dict)"
   ],
   "id": "af06a69c5b39b16d",
   "execution_count": 60,
   "outputs": []
  },
  {
   "metadata": {
    "ExecuteTime": {
     "end_time": "2024-05-20T18:12:35.342054Z",
     "start_time": "2024-05-20T18:12:35.336394Z"
    }
   },
   "cell_type": "code",
   "source": "len(dv.feature_names_)",
   "id": "3cb67321315ea34c",
   "execution_count": 38,
   "outputs": []
  },
  {
   "metadata": {
    "ExecuteTime": {
     "end_time": "2024-05-20T18:23:52.371696Z",
     "start_time": "2024-05-20T18:23:52.367739Z"
    }
   },
   "cell_type": "code",
   "source": "type(x_train)",
   "id": "62c98942ef0d2a89",
   "execution_count": 48,
   "outputs": []
  },
  {
   "metadata": {},
   "cell_type": "markdown",
   "source": [
    "## Q5. Training a model\n",
    "\n",
    "Now let's use the feature matrix from the previous step to train a model. \n",
    "\n",
    "* Train a plain linear regression model with default parameters \n",
    "* Calculate the RMSE of the model on the training data\n",
    "\n",
    "What's the RMSE on train?\n",
    "\n",
    "* 3.64\n",
    "* 7.64\n",
    "* 11.64\n",
    "* 16.64\n",
    "\n",
    "Answer: 7.64"
   ],
   "id": "38c77ae881efb608"
  },
  {
   "metadata": {
    "ExecuteTime": {
     "end_time": "2024-05-20T18:15:58.351333Z",
     "start_time": "2024-05-20T18:15:48.999538Z"
    }
   },
   "cell_type": "code",
   "source": [
    "lin_reg=LinearRegression()\n",
    "y_train = df_jan['duration'].tolist()\n",
    "lin_reg.fit(x_train,y_train)"
   ],
   "id": "63fb3afefe356ce",
   "execution_count": 43,
   "outputs": []
  },
  {
   "metadata": {
    "ExecuteTime": {
     "end_time": "2024-05-20T18:18:02.131233Z",
     "start_time": "2024-05-20T18:18:01.987162Z"
    }
   },
   "cell_type": "code",
   "source": [
    "y_pred = lin_reg.predict(x_train)\n",
    "rmse = root_mean_squared_error(y_train,y_pred)"
   ],
   "id": "4b1698d745cd935a",
   "execution_count": 46,
   "outputs": []
  },
  {
   "metadata": {
    "ExecuteTime": {
     "end_time": "2024-05-20T18:18:06.499775Z",
     "start_time": "2024-05-20T18:18:06.495783Z"
    }
   },
   "cell_type": "code",
   "source": "rmse",
   "id": "c9be5b343b490a6a",
   "execution_count": 47,
   "outputs": []
  },
  {
   "metadata": {},
   "cell_type": "markdown",
   "source": [
    "## Q6. Evaluating the model\n",
    "\n",
    "Now let's apply this model to the validation dataset (February 2023). \n",
    "\n",
    "What's the RMSE on validation?\n",
    "\n",
    "* 3.81\n",
    "* 7.81\n",
    "* 11.81\n",
    "* 16.81\n",
    "\n",
    "Answer: 7.81"
   ],
   "id": "24de4f366e318e02"
  },
  {
   "metadata": {
    "ExecuteTime": {
     "end_time": "2024-05-20T18:42:36.298921Z",
     "start_time": "2024-05-20T18:42:36.293898Z"
    }
   },
   "cell_type": "code",
   "source": [
    "def lebal_preprocess(df: pd.DataFrame) -> List:\n",
    "    df = df.copy()\n",
    "    df['duration'] = df['tpep_dropoff_datetime'] - df['tpep_pickup_datetime'] \n",
    "    df['duration'] = df['duration'].apply(lambda x: x.total_seconds()/60)\n",
    "    df = df[(df['duration'] >= 1.0)&(df['duration'] <= 60.0)]\n",
    "    return df['duration'].tolist(),df"
   ],
   "id": "b5df9391b194a4c3",
   "execution_count": 77,
   "outputs": []
  },
  {
   "metadata": {
    "ExecuteTime": {
     "end_time": "2024-05-20T18:40:57.341367Z",
     "start_time": "2024-05-20T18:40:57.337684Z"
    }
   },
   "cell_type": "code",
   "source": [
    "def features_preprocess(df: pd.DataFrame, dv:DictVectorizer, features: List[str]=['PULocationID', 'DOLocationID']) -> csr_matrix:\n",
    "    for f in features:\n",
    "        df[f] = df[f].astype('str')\n",
    "    df_dict = df[features].to_dict(orient='records')\n",
    "    x = dv.transform(df_dict)\n",
    "    return x"
   ],
   "id": "bd5cee64eec9e775",
   "execution_count": 75,
   "outputs": []
  },
  {
   "metadata": {
    "ExecuteTime": {
     "end_time": "2024-05-20T18:42:47.460882Z",
     "start_time": "2024-05-20T18:42:38.317586Z"
    }
   },
   "cell_type": "code",
   "source": [
    "y_val,df_feb = lebal_preprocess(df_feb)\n",
    "x_val = features_preprocess(df_feb,dv)"
   ],
   "id": "eb99f9dad2ace0d0",
   "execution_count": 78,
   "outputs": []
  },
  {
   "metadata": {
    "ExecuteTime": {
     "end_time": "2024-05-20T18:37:23.965642Z",
     "start_time": "2024-05-20T18:37:23.877676Z"
    }
   },
   "cell_type": "code",
   "source": [
    "y_pred_val = lin_reg.predict(x_val)\n",
    "rmse = root_mean_squared_error(y_val,y_pred_val)"
   ],
   "id": "3028507fb3f4e56b",
   "execution_count": 71,
   "outputs": []
  },
  {
   "metadata": {
    "ExecuteTime": {
     "end_time": "2024-05-20T18:37:40.734845Z",
     "start_time": "2024-05-20T18:37:40.731408Z"
    }
   },
   "cell_type": "code",
   "source": "print(rmse)",
   "id": "822e8f6c328b65f3",
   "execution_count": 73,
   "outputs": []
  },
  {
   "metadata": {},
   "cell_type": "code",
   "execution_count": null,
   "source": "",
   "id": "d1e6cfcfc2bd632d",
   "outputs": []
  }
 ],
 "metadata": {
  "kernelspec": {
   "display_name": "Python 3",
   "language": "python",
   "name": "python3"
  },
  "language_info": {
   "codemirror_mode": {
    "name": "ipython",
    "version": 2
   },
   "file_extension": ".py",
   "mimetype": "text/x-python",
   "name": "python",
   "nbconvert_exporter": "python",
   "pygments_lexer": "ipython2",
   "version": "2.7.6"
  }
 },
 "nbformat": 4,
 "nbformat_minor": 5
}
