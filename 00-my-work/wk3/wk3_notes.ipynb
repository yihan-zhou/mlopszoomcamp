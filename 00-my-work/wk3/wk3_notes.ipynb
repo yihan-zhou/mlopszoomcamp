{
 "cells": [
  {
   "metadata": {},
   "cell_type": "markdown",
   "source": [
    "ml piplines == ml orchstrators\n",
    "1. Download the data\n",
    "2. Transform/process the data: filtering, remove outliers\n",
    "3. Prepare the data for traiing: feature eningeering get x, y\n",
    "4. hyper parameters tuning\n",
    "5. train the model\n",
    "6. Save to model registry\n",
    "\n",
    "Remaining questions:\n",
    "* How to schedule the training?\n",
    "* How to deploy it?\n",
    "* What if there are multiple such files?\n",
    "* What if the training failed\n",
    "\n",
    "Tools for generic purposes: Airflow, Mage, Perfect\n",
    "Tools for ml specific: Kuberflow pipelines, MLFlow pipelines"
   ],
   "id": "5f0707d0db7291b"
  },
  {
   "metadata": {},
   "cell_type": "markdown",
   "source": [
    "Mage flow:\n",
    "Model to implement: https://github.com/DataTalksClub/mlops-zoomcamp/blob/main/cohorts/2024/01-intro/homework.ipynb\n",
    "video to follow: https://www.loom.com/share/802c8c0b843a4d3bbd9dbea240c3593a?sid=2d3e8624-f6cd-4ff6-a7b0-18cfa981568a\n",
    "\n",
    "1. Create a mage project folder in the \"text editor\" of Mage interface\n",
    "2. In settings, register the project so the project name is showing in the top left dropdown.\n",
    "3. Under dashboard, make a new pipeline. After creating it, it takes to \"Edit pipeline\" section, and all the folder content will be shown on the left hand.\n",
    "4. Create load block(data loader) to download the data, transform block (transformer) to preprocess the data, train block(transformer) to train the model - which return the dv and model.\n",
    "5. After the model is trained, we save it with MLFlow. will do so with `dockerfile` and modify `docker-compose.yaml`. More details: https://github.com/DataTalksClub/mlops-zoomcamp/blob/main/cohorts/2024/03-orchestration/homework.md"
   ],
   "id": "1ce3dea61aed704f"
  },
  {
   "metadata": {},
   "cell_type": "code",
   "outputs": [],
   "execution_count": null,
   "source": "",
   "id": "541c72d9747dfb20"
  }
 ],
 "metadata": {
  "kernelspec": {
   "display_name": "Python 3",
   "language": "python",
   "name": "python3"
  },
  "language_info": {
   "codemirror_mode": {
    "name": "ipython",
    "version": 2
   },
   "file_extension": ".py",
   "mimetype": "text/x-python",
   "name": "python",
   "nbconvert_exporter": "python",
   "pygments_lexer": "ipython2",
   "version": "2.7.6"
  }
 },
 "nbformat": 4,
 "nbformat_minor": 5
}
