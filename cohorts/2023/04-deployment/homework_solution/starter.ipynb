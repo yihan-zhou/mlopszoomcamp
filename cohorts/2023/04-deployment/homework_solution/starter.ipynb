{
 "cells": [
  {
   "cell_type": "code",
   "execution_count": 35,
   "id": "2c51efaa",
   "metadata": {},
   "source": [
    "!pip freeze | grep scikit-learn"
   ],
   "outputs": []
  },
  {
   "cell_type": "code",
   "execution_count": 36,
   "id": "960281b9-34a5-40bd-ad56-f6e83aed2882",
   "metadata": {},
   "source": [
    "import sklearn"
   ],
   "outputs": []
  },
  {
   "cell_type": "code",
   "execution_count": 38,
   "id": "83d7406e-3be7-4e6b-9c68-da7f67b82647",
   "metadata": {},
   "source": [
    "sklearn.__version__"
   ],
   "outputs": []
  },
  {
   "cell_type": "code",
   "execution_count": 1,
   "id": "0ef880a0",
   "metadata": {},
   "source": [
    "import pickle\n",
    "import pandas as pd"
   ],
   "outputs": []
  },
  {
   "cell_type": "code",
   "execution_count": 2,
   "id": "ef5cbf9e-f962-4d60-8daf-e6f4a791e3bc",
   "metadata": {},
   "source": [
    "year = 2022\n",
    "month = 2\n",
    "\n",
    "input_file = f'https://d37ci6vzurychx.cloudfront.net/trip-data/yellow_tripdata_{year:04d}-{month:02d}.parquet'\n",
    "output_file = f'output/yellow_tripdata_{year:04d}-{month:02d}.parquet'"
   ],
   "outputs": []
  },
  {
   "cell_type": "code",
   "execution_count": 3,
   "id": "7836ccfd",
   "metadata": {},
   "source": [
    "with open('model.bin', 'rb') as f_in:\n",
    "    dv, lr = pickle.load(f_in)"
   ],
   "outputs": []
  },
  {
   "cell_type": "code",
   "execution_count": 4,
   "id": "41c08294",
   "metadata": {},
   "source": [
    "categorical = ['PULocationID', 'DOLocationID']\n",
    "\n",
    "def read_data(filename):\n",
    "    df = pd.read_parquet(filename)\n",
    "    \n",
    "    df['duration'] = df.tpep_dropoff_datetime - df.tpep_pickup_datetime\n",
    "    df['duration'] = df.duration.dt.total_seconds() / 60\n",
    "\n",
    "    df = df[(df.duration >= 1) & (df.duration <= 60)].copy()\n",
    "\n",
    "    df[categorical] = df[categorical].fillna(-1).astype('int').astype('str')\n",
    "    \n",
    "    return df"
   ],
   "outputs": []
  },
  {
   "cell_type": "code",
   "execution_count": 5,
   "id": "4854399a",
   "metadata": {},
   "source": [
    "#df = read_data('https://nyc-tlc.s3.amazonaws.com/trip+data/fhv_tripdata_2022-02.parquet')\n",
    "#df = read_data('https://d37ci6vzurychx.cloudfront.net/trip-data/yellow_tripdata_2022-02.parquet')"
   ],
   "outputs": []
  },
  {
   "cell_type": "code",
   "execution_count": 6,
   "id": "3a1d318c-c4b7-4df8-be68-1ec42d312f22",
   "metadata": {},
   "source": [
    "df = read_data(input_file)\n",
    "df['ride_id'] = f'{year:04d}/{month:02d}_' + df.index.astype('str')"
   ],
   "outputs": []
  },
  {
   "cell_type": "code",
   "execution_count": 8,
   "id": "9dd40a24-07ce-4863-b4ba-d923de41f9fc",
   "metadata": {},
   "source": [
    "df.head()"
   ],
   "outputs": []
  },
  {
   "cell_type": "code",
   "execution_count": 9,
   "id": "669fda0a",
   "metadata": {},
   "source": [
    "dicts = df[categorical].to_dict(orient='records')\n",
    "X_val = dv.transform(dicts)\n",
    "y_pred = lr.predict(X_val)"
   ],
   "outputs": []
  },
  {
   "cell_type": "code",
   "execution_count": 10,
   "id": "64aadfcb-d82b-4d7b-a40e-c8373d0c3330",
   "metadata": {},
   "source": [
    "y_pred"
   ],
   "outputs": []
  },
  {
   "cell_type": "code",
   "execution_count": 11,
   "id": "353dfffc-d635-4068-ad1e-539a5af9e111",
   "metadata": {},
   "source": [
    "import seaborn as sns\n",
    "import matplotlib.pyplot as plt"
   ],
   "outputs": []
  },
  {
   "cell_type": "code",
   "execution_count": 12,
   "id": "85ae2c55-37a6-43d9-b1d7-528e4962e6c6",
   "metadata": {},
   "source": [
    "sns.histplot(y_pred, label='prediction')\n",
    "sns.histplot(df.duration, label='actual')\n",
    "\n",
    "plt.legend();"
   ],
   "outputs": []
  },
  {
   "cell_type": "markdown",
   "id": "824811df-af93-476b-8f22-68f878b3ba67",
   "metadata": {},
   "source": [
    "### Q1. Standard deviation"
   ]
  },
  {
   "cell_type": "code",
   "execution_count": 13,
   "id": "49a41e7d-d6bc-4246-a2ee-a4dbc13a26e3",
   "metadata": {},
   "source": [
    "y_pred.mean()"
   ],
   "outputs": []
  },
  {
   "cell_type": "code",
   "execution_count": 14,
   "id": "d8c487b9-d630-424f-ac3e-7ca31f2bed44",
   "metadata": {},
   "source": [
    "y_pred.std()"
   ],
   "outputs": []
  },
  {
   "cell_type": "markdown",
   "id": "079be83b-17bb-4c71-b15f-336673dee2ca",
   "metadata": {},
   "source": [
    "### Q2. Preparing the output"
   ]
  },
  {
   "cell_type": "code",
   "execution_count": 15,
   "id": "92599455-2191-4ed7-afa3-98f510a41e1f",
   "metadata": {},
   "source": [
    "df_result = pd.DataFrame()\n",
    "df_result['ride_id'] = df['ride_id']\n",
    "df_result['predicted_duration'] = y_pred"
   ],
   "outputs": []
  },
  {
   "cell_type": "code",
   "execution_count": 18,
   "id": "353c91e8-bdf7-4f13-a28b-586fd595d0b3",
   "metadata": {},
   "source": [
    "df_result.to_parquet(\n",
    "    output_file,\n",
    "    engine='pyarrow',\n",
    "    compression=None,\n",
    "    index=False\n",
    ")"
   ],
   "outputs": []
  },
  {
   "cell_type": "code",
   "execution_count": 33,
   "id": "d1b9a4df-ea69-4e7a-a41c-4c19f24820d0",
   "metadata": {},
   "source": [
    "%ls output"
   ],
   "outputs": []
  },
  {
   "cell_type": "code",
   "execution_count": null,
   "id": "982b2006-fd32-440b-a27c-e0f843b53ed1",
   "metadata": {},
   "source": [],
   "outputs": []
  }
 ],
 "metadata": {
  "kernelspec": {
   "display_name": "Python 3 (ipykernel)",
   "language": "python",
   "name": "python3"
  },
  "language_info": {
   "codemirror_mode": {
    "name": "ipython",
    "version": 3
   },
   "file_extension": ".py",
   "mimetype": "text/x-python",
   "name": "python",
   "nbconvert_exporter": "python",
   "pygments_lexer": "ipython3",
   "version": "3.10.0"
  }
 },
 "nbformat": 4,
 "nbformat_minor": 5
}
