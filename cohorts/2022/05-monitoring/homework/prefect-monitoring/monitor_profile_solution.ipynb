{
 "cells": [
  {
   "cell_type": "code",
   "execution_count": 1,
   "metadata": {},
   "source": [
    "from pymongo import MongoClient\n",
    "import pprint"
   ],
   "outputs": []
  },
  {
   "cell_type": "code",
   "execution_count": 2,
   "metadata": {},
   "source": [
    "MONGO_CLIENT_ADDRESS = \"mongodb://localhost:27017/\"\n",
    "MONGO_DATABASE = \"prediction_service\"\n",
    "REPORT_COLLECTION = \"report\""
   ],
   "outputs": []
  },
  {
   "cell_type": "code",
   "execution_count": 3,
   "metadata": {},
   "source": [
    "client = MongoClient()\n",
    "collection = client.get_database(MONGO_DATABASE).get_collection(REPORT_COLLECTION)"
   ],
   "outputs": []
  },
  {
   "cell_type": "code",
   "execution_count": 4,
   "metadata": {},
   "source": [
    "for col in collection.find():\n",
    "    pprint.pprint(len(col['data_drift']['data']['metrics'].keys()))"
   ],
   "outputs": []
  }
 ],
 "metadata": {
  "kernelspec": {
   "display_name": "Python 3.8.2 ('prefect-monitoring-vrjQsnUO')",
   "language": "python",
   "name": "python3"
  },
  "language_info": {
   "codemirror_mode": {
    "name": "ipython",
    "version": 3
   },
   "file_extension": ".py",
   "mimetype": "text/x-python",
   "name": "python",
   "nbconvert_exporter": "python",
   "pygments_lexer": "ipython3",
   "version": "3.8.2"
  },
  "orig_nbformat": 4,
  "vscode": {
   "interpreter": {
    "hash": "8c4128a542e647ac345fb470a121f5ad37749126bd51dd0e4b0f94b08087470c"
   }
  }
 },
 "nbformat": 4,
 "nbformat_minor": 2
}
